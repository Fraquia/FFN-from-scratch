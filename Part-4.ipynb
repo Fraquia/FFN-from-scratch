{
  "nbformat": 4,
  "nbformat_minor": 0,
  "metadata": {
    "colab": {
      "name": "AML2-pt4.ipynb",
      "provenance": [],
      "collapsed_sections": [],
      "toc_visible": true
    },
    "kernelspec": {
      "name": "python3",
      "display_name": "Python 3"
    },
    "accelerator": "GPU",
    "widgets": {
      "application/vnd.jupyter.widget-state+json": {
        "5619ef94ad9c46a4991b9620cf50583f": {
          "model_module": "@jupyter-widgets/controls",
          "model_name": "HBoxModel",
          "state": {
            "_view_name": "HBoxView",
            "_dom_classes": [],
            "_model_name": "HBoxModel",
            "_view_module": "@jupyter-widgets/controls",
            "_model_module_version": "1.5.0",
            "_view_count": null,
            "_view_module_version": "1.5.0",
            "box_style": "",
            "layout": "IPY_MODEL_53597ae2f1bf401295fad659a36f47b8",
            "_model_module": "@jupyter-widgets/controls",
            "children": [
              "IPY_MODEL_6724b2698c924b4380a8aa6d8a08e559",
              "IPY_MODEL_a2fc6fa2403a4987848e63cac442fbc1"
            ]
          }
        },
        "53597ae2f1bf401295fad659a36f47b8": {
          "model_module": "@jupyter-widgets/base",
          "model_name": "LayoutModel",
          "state": {
            "_view_name": "LayoutView",
            "grid_template_rows": null,
            "right": null,
            "justify_content": null,
            "_view_module": "@jupyter-widgets/base",
            "overflow": null,
            "_model_module_version": "1.2.0",
            "_view_count": null,
            "flex_flow": null,
            "width": null,
            "min_width": null,
            "border": null,
            "align_items": null,
            "bottom": null,
            "_model_module": "@jupyter-widgets/base",
            "top": null,
            "grid_column": null,
            "overflow_y": null,
            "overflow_x": null,
            "grid_auto_flow": null,
            "grid_area": null,
            "grid_template_columns": null,
            "flex": null,
            "_model_name": "LayoutModel",
            "justify_items": null,
            "grid_row": null,
            "max_height": null,
            "align_content": null,
            "visibility": null,
            "align_self": null,
            "height": null,
            "min_height": null,
            "padding": null,
            "grid_auto_rows": null,
            "grid_gap": null,
            "max_width": null,
            "order": null,
            "_view_module_version": "1.2.0",
            "grid_template_areas": null,
            "object_position": null,
            "object_fit": null,
            "grid_auto_columns": null,
            "margin": null,
            "display": null,
            "left": null
          }
        },
        "6724b2698c924b4380a8aa6d8a08e559": {
          "model_module": "@jupyter-widgets/controls",
          "model_name": "FloatProgressModel",
          "state": {
            "_view_name": "ProgressView",
            "style": "IPY_MODEL_7644d29c0507493f8d9f9fe1272bb1f6",
            "_dom_classes": [],
            "description": "",
            "_model_name": "FloatProgressModel",
            "bar_style": "info",
            "max": 1,
            "_view_module": "@jupyter-widgets/controls",
            "_model_module_version": "1.5.0",
            "value": 1,
            "_view_count": null,
            "_view_module_version": "1.5.0",
            "orientation": "horizontal",
            "min": 0,
            "description_tooltip": null,
            "_model_module": "@jupyter-widgets/controls",
            "layout": "IPY_MODEL_b047c900a53140ae8040a396d6394ee0"
          }
        },
        "a2fc6fa2403a4987848e63cac442fbc1": {
          "model_module": "@jupyter-widgets/controls",
          "model_name": "HTMLModel",
          "state": {
            "_view_name": "HTMLView",
            "style": "IPY_MODEL_4230635dfe8344ea8636f572651f4953",
            "_dom_classes": [],
            "description": "",
            "_model_name": "HTMLModel",
            "placeholder": "​",
            "_view_module": "@jupyter-widgets/controls",
            "_model_module_version": "1.5.0",
            "value": " 170500096/? [00:19&lt;00:00, 86694709.45it/s]",
            "_view_count": null,
            "_view_module_version": "1.5.0",
            "description_tooltip": null,
            "_model_module": "@jupyter-widgets/controls",
            "layout": "IPY_MODEL_154ff7ae63c04fc993cfa92b7638f93f"
          }
        },
        "7644d29c0507493f8d9f9fe1272bb1f6": {
          "model_module": "@jupyter-widgets/controls",
          "model_name": "ProgressStyleModel",
          "state": {
            "_view_name": "StyleView",
            "_model_name": "ProgressStyleModel",
            "description_width": "initial",
            "_view_module": "@jupyter-widgets/base",
            "_model_module_version": "1.5.0",
            "_view_count": null,
            "_view_module_version": "1.2.0",
            "bar_color": null,
            "_model_module": "@jupyter-widgets/controls"
          }
        },
        "b047c900a53140ae8040a396d6394ee0": {
          "model_module": "@jupyter-widgets/base",
          "model_name": "LayoutModel",
          "state": {
            "_view_name": "LayoutView",
            "grid_template_rows": null,
            "right": null,
            "justify_content": null,
            "_view_module": "@jupyter-widgets/base",
            "overflow": null,
            "_model_module_version": "1.2.0",
            "_view_count": null,
            "flex_flow": null,
            "width": null,
            "min_width": null,
            "border": null,
            "align_items": null,
            "bottom": null,
            "_model_module": "@jupyter-widgets/base",
            "top": null,
            "grid_column": null,
            "overflow_y": null,
            "overflow_x": null,
            "grid_auto_flow": null,
            "grid_area": null,
            "grid_template_columns": null,
            "flex": null,
            "_model_name": "LayoutModel",
            "justify_items": null,
            "grid_row": null,
            "max_height": null,
            "align_content": null,
            "visibility": null,
            "align_self": null,
            "height": null,
            "min_height": null,
            "padding": null,
            "grid_auto_rows": null,
            "grid_gap": null,
            "max_width": null,
            "order": null,
            "_view_module_version": "1.2.0",
            "grid_template_areas": null,
            "object_position": null,
            "object_fit": null,
            "grid_auto_columns": null,
            "margin": null,
            "display": null,
            "left": null
          }
        },
        "4230635dfe8344ea8636f572651f4953": {
          "model_module": "@jupyter-widgets/controls",
          "model_name": "DescriptionStyleModel",
          "state": {
            "_view_name": "StyleView",
            "_model_name": "DescriptionStyleModel",
            "description_width": "",
            "_view_module": "@jupyter-widgets/base",
            "_model_module_version": "1.5.0",
            "_view_count": null,
            "_view_module_version": "1.2.0",
            "_model_module": "@jupyter-widgets/controls"
          }
        },
        "154ff7ae63c04fc993cfa92b7638f93f": {
          "model_module": "@jupyter-widgets/base",
          "model_name": "LayoutModel",
          "state": {
            "_view_name": "LayoutView",
            "grid_template_rows": null,
            "right": null,
            "justify_content": null,
            "_view_module": "@jupyter-widgets/base",
            "overflow": null,
            "_model_module_version": "1.2.0",
            "_view_count": null,
            "flex_flow": null,
            "width": null,
            "min_width": null,
            "border": null,
            "align_items": null,
            "bottom": null,
            "_model_module": "@jupyter-widgets/base",
            "top": null,
            "grid_column": null,
            "overflow_y": null,
            "overflow_x": null,
            "grid_auto_flow": null,
            "grid_area": null,
            "grid_template_columns": null,
            "flex": null,
            "_model_name": "LayoutModel",
            "justify_items": null,
            "grid_row": null,
            "max_height": null,
            "align_content": null,
            "visibility": null,
            "align_self": null,
            "height": null,
            "min_height": null,
            "padding": null,
            "grid_auto_rows": null,
            "grid_gap": null,
            "max_width": null,
            "order": null,
            "_view_module_version": "1.2.0",
            "grid_template_areas": null,
            "object_position": null,
            "object_fit": null,
            "grid_auto_columns": null,
            "margin": null,
            "display": null,
            "left": null
          }
        }
      }
    }
  },
  "cells": [
    {
      "cell_type": "code",
      "metadata": {
        "id": "ZZsGyV1_2ZH-"
      },
      "source": [
        "import torch\n",
        "import torch.nn as nn\n",
        "import torch.nn.functional as F\n",
        "import torchvision\n",
        "import torchvision.transforms as transforms\n",
        "import numpy as np"
      ],
      "execution_count": 1,
      "outputs": []
    },
    {
      "cell_type": "code",
      "metadata": {
        "id": "vzPj9g3ArRDc"
      },
      "source": [
        "# Hyper-parameters\n",
        "\n",
        "input_size = 32 * 32 * 3 #DA NON CAMBIARE\n",
        "hidden_size = [80] #[50] \n",
        "num_classes = 10 #DA NON CAMBIARE\n",
        "num_epochs =  10 #10 \n",
        "learning_rate = 0.002 #1e-3\n",
        "learning_rate_decay =  0.95 #0.95\n",
        "reg=0.0001 #0.001 \n",
        "batch_size = 400 \n",
        "\n",
        "num_training= 49000 # DA NON CAMBIARE\n",
        "num_validation =1000 # DA NON CAMBIARE\n",
        "train = True"
      ],
      "execution_count": 3,
      "outputs": []
    },
    {
      "cell_type": "code",
      "metadata": {
        "id": "k4vdcCCx6_21",
        "outputId": "5721b1da-dad3-4ddf-e137-1a4d7f22e023",
        "colab": {
          "base_uri": "https://localhost:8080/",
          "height": 83,
          "referenced_widgets": [
            "5619ef94ad9c46a4991b9620cf50583f",
            "53597ae2f1bf401295fad659a36f47b8",
            "6724b2698c924b4380a8aa6d8a08e559",
            "a2fc6fa2403a4987848e63cac442fbc1",
            "7644d29c0507493f8d9f9fe1272bb1f6",
            "b047c900a53140ae8040a396d6394ee0",
            "4230635dfe8344ea8636f572651f4953",
            "154ff7ae63c04fc993cfa92b7638f93f"
          ]
        }
      },
      "source": [
        "# Load the CIFAR-10 dataset\n",
        "#-------------------------------------------------\n",
        "norm_transform = transforms.Compose([transforms.ToTensor(),\n",
        "                                     transforms.Normalize((0.5, 0.5, 0.5), (0.5, 0.5, 0.5))\n",
        "                                     ])\n",
        "cifar_dataset = torchvision.datasets.CIFAR10(root='datasets/',\n",
        "                                           train=True,\n",
        "                                           transform=norm_transform,\n",
        "                                           download=True)\n",
        "\n",
        "test_dataset = torchvision.datasets.CIFAR10(root='datasets/',\n",
        "                                          train=False,\n",
        "                                          transform=norm_transform\n",
        "                                          )\n",
        "#-------------------------------------------------\n",
        "# Prepare the training and validation splits\n",
        "#-------------------------------------------------\n",
        "mask = list(range(num_training))\n",
        "train_dataset = torch.utils.data.Subset(cifar_dataset, mask)\n",
        "mask = list(range(num_training, num_training + num_validation))\n",
        "val_dataset = torch.utils.data.Subset(cifar_dataset, mask)\n",
        "\n",
        "#-------------------------------------------------\n",
        "# Data loader\n",
        "#-------------------------------------------------\n",
        "train_loader = torch.utils.data.DataLoader(dataset=train_dataset,\n",
        "                                           batch_size=batch_size,\n",
        "                                           shuffle=True)\n",
        "\n",
        "val_loader = torch.utils.data.DataLoader(dataset=val_dataset,\n",
        "                                           batch_size=batch_size,\n",
        "                                           shuffle=False)\n",
        "\n",
        "test_loader = torch.utils.data.DataLoader(dataset=test_dataset,\n",
        "                                          batch_size=batch_size,\n",
        "                                          shuffle=False)"
      ],
      "execution_count": 4,
      "outputs": [
        {
          "output_type": "stream",
          "text": [
            "Downloading https://www.cs.toronto.edu/~kriz/cifar-10-python.tar.gz to datasets/cifar-10-python.tar.gz\n"
          ],
          "name": "stdout"
        },
        {
          "output_type": "display_data",
          "data": {
            "application/vnd.jupyter.widget-view+json": {
              "model_id": "5619ef94ad9c46a4991b9620cf50583f",
              "version_minor": 0,
              "version_major": 2
            },
            "text/plain": [
              "HBox(children=(FloatProgress(value=1.0, bar_style='info', max=1.0), HTML(value='')))"
            ]
          },
          "metadata": {
            "tags": []
          }
        },
        {
          "output_type": "stream",
          "text": [
            "Extracting datasets/cifar-10-python.tar.gz to datasets/\n"
          ],
          "name": "stdout"
        }
      ]
    },
    {
      "cell_type": "code",
      "metadata": {
        "id": "rOhcdyq96MPt"
      },
      "source": [
        "def weights_init(m):\n",
        "    if type(m) == nn.Linear:\n",
        "        m.weight.data.normal_(0.0, 1e-3)\n",
        "        m.bias.data.fill_(0.)\n",
        "\n",
        "def update_lr(optimizer, lr):\n",
        "    for param_group in optimizer.param_groups:\n",
        "        param_group['lr'] = lr"
      ],
      "execution_count": 6,
      "outputs": []
    },
    {
      "cell_type": "code",
      "metadata": {
        "id": "JsuVXFPu2VaY",
        "outputId": "8a6660c0-42fb-48d4-893f-b401c214f633",
        "colab": {
          "base_uri": "https://localhost:8080/"
        }
      },
      "source": [
        "# Device configuration\n",
        "\n",
        "device = torch.device('cuda' if torch.cuda.is_available() else 'cpu')\n",
        "print('Using device: %s'%device)\n"
      ],
      "execution_count": 7,
      "outputs": [
        {
          "output_type": "stream",
          "text": [
            "Using device: cuda\n"
          ],
          "name": "stdout"
        }
      ]
    },
    {
      "cell_type": "code",
      "metadata": {
        "id": "AlY4O5PKotla"
      },
      "source": [
        "class MultiLayerPerceptron(nn.Module):\n",
        "    def __init__(self, input_size, hidden_layers, num_classes):\n",
        "        super(MultiLayerPerceptron, self).__init__()\n",
        "        #################################################################################\n",
        "        # TODO: Initialize the modules required to implement the mlp with the layer     #\n",
        "        # configuration. input_size --> hidden_layers[0] --> hidden_layers[1] .... -->  #\n",
        "        # hidden_layers[-1] --> num_classes                                             #\n",
        "        # Make use of linear and relu layers from the torch.nn module                   #\n",
        "        #################################################################################\n",
        "        \n",
        "        layers = [] #Use the layers list to store a variable number of layers\n",
        "        \n",
        "        # *****START OF YOUR CODE (DO NOT DELETE/MODIFY THIS LINE)*****\n",
        "\n",
        "        l1 = nn.Sequential(\n",
        "            nn.Linear(input_size, hidden_layers[0]),\n",
        "            nn.ReLU()\n",
        "        )\n",
        "        l2 = nn.Sequential(\n",
        "            nn.Linear(hidden_layers[0],num_classes),\n",
        "            #nn.ReLU() #CATE TI ODIA #e finalmente ha un motivo per farlo\n",
        "        )\n",
        "\n",
        "        layers.append(l1)\n",
        "        layers.append(l2)\n",
        "\n",
        "        # *****END OF YOUR CODE (DO NOT DELETE/MODIFY THIS LINE)*****\n",
        "\n",
        "        # Enter the layers into nn.Sequential, so the model may \"see\" them\n",
        "        # Note the use of * in front of layers\n",
        "        self.layers = nn.Sequential(*layers)\n",
        "\n",
        "    def forward(self, x):\n",
        "        #################################################################################\n",
        "        # TODO: Implement the forward pass computations                                  #\n",
        "        # Note that you do not need to use the softmax operation at the end.             #\n",
        "        # Softmax is only required for the loss computation and the criterion used below #\n",
        "        # nn.CrossEntropyLoss() already integrates the softmax and the log loss together #\n",
        "        #################################################################################\n",
        "        \n",
        "        # *****START OF YOUR CODE (DO NOT DELETE/MODIFY THIS LINE)*****\n",
        "        out = []\n",
        "        for img in x:\n",
        "            res = model.layers(img.flatten()) \n",
        "            out.append(res)\n",
        "\n",
        "        # *****END OF YOUR CODE (DO NOT DELETE/MODIFY THIS LINE)*****\n",
        "        \n",
        "        return out\n",
        "\n",
        "model = MultiLayerPerceptron(input_size, hidden_size, num_classes).to(device)"
      ],
      "execution_count": 8,
      "outputs": []
    },
    {
      "cell_type": "code",
      "metadata": {
        "id": "XkJH94trHrgW"
      },
      "source": [
        "#model.forward(train_loader)"
      ],
      "execution_count": null,
      "outputs": []
    },
    {
      "cell_type": "code",
      "metadata": {
        "id": "OGmIVJzQGoyp",
        "outputId": "ea149d97-f17e-42d0-a281-239bd4ff3c58",
        "colab": {
          "base_uri": "https://localhost:8080/"
        }
      },
      "source": [
        "print(\"Model's state_dict:\")\n",
        "for param_tensor in model.state_dict():\n",
        "    print(param_tensor, \"\\t\", model.state_dict()[param_tensor].size())\n",
        "\n"
      ],
      "execution_count": 9,
      "outputs": [
        {
          "output_type": "stream",
          "text": [
            "Model's state_dict:\n",
            "layers.0.0.weight \t torch.Size([80, 3072])\n",
            "layers.0.0.bias \t torch.Size([80])\n",
            "layers.1.0.weight \t torch.Size([10, 80])\n",
            "layers.1.0.bias \t torch.Size([10])\n"
          ],
          "name": "stdout"
        }
      ]
    },
    {
      "cell_type": "code",
      "metadata": {
        "id": "3oIVrdl35nfv",
        "outputId": "9e094570-e31e-4d41-9808-e57cdee3dfb4",
        "colab": {
          "base_uri": "https://localhost:8080/"
        }
      },
      "source": [
        "if train:\n",
        "    model.apply(weights_init)\n",
        "    model.train() #set dropout and batch normalization layers to training mode\n",
        "\n",
        "    # Loss and optimizer\n",
        "    criterion = nn.CrossEntropyLoss()\n",
        "    optimizer = torch.optim.Adam(model.parameters(), lr=learning_rate, weight_decay=reg)\n",
        "\n",
        "    # Train the model\n",
        "    lr = learning_rate\n",
        "    total_step = len(train_loader)\n",
        "    for epoch in range(num_epochs):\n",
        "        for i, (images, labels) in enumerate(train_loader):\n",
        "            # Move tensors to the configured device\n",
        "            images = images.to(device)\n",
        "            labels = labels.to(device)\n",
        "            #################################################################################\n",
        "            # TODO: Implement the training code                                             #\n",
        "            # 1. Pass the images to the model                                               #\n",
        "            # 2. Compute the loss using the output and the labels.                          #\n",
        "            # 3. Compute gradients and update the model using the optimizer                 #\n",
        "            # Use examples in https://pytorch.org/tutorials/beginner/pytorch_with_examples.html\n",
        "            #################################################################################\n",
        "            # *****START OF YOUR CODE (DO NOT DELETE/MODIFY THIS LINE)*****\n",
        "\n",
        "            scores = model.forward(images)\n",
        "            scores = torch.stack(scores)\n",
        "            loss = criterion(scores, labels)\n",
        "            optimizer.zero_grad()\n",
        "            loss.backward()\n",
        "            optimizer.step()\n",
        "\n",
        "            # *****END OF YOUR CODE (DO NOT DELETE/MODIFY THIS LINE)*****\n",
        "\n",
        "            if (i+1) % 100 == 0:\n",
        "                print ('Epoch [{}/{}], Step [{}/{}], Loss: {:.4f}'\n",
        "                       .format(epoch+1, num_epochs, i+1, total_step, loss.item()))\n",
        "\n",
        "        # Code to update the lr\n",
        "        lr *= learning_rate_decay\n",
        "        update_lr(optimizer, lr)\n",
        "        with torch.no_grad():\n",
        "            correct = 0\n",
        "            total = 0\n",
        "            for images, labels in val_loader:\n",
        "                images = images.to(device)\n",
        "                labels = labels.to(device)\n",
        "                ####################################################\n",
        "                # TODO: Implement the evaluation code              #\n",
        "                # 1. Pass the images to the model                  #\n",
        "                # 2. Get the most confident predicted class        #\n",
        "                ####################################################\n",
        "                # *****START OF YOUR CODE (DO NOT DELETE/MODIFY THIS LINE)*****\n",
        "                \n",
        "                scores = model.forward(images)\n",
        "                scores = torch.stack(scores)\n",
        "                \n",
        "                scores = torch.softmax(scores,dim=1)\n",
        "                predicted = torch.max(scores, 1)[1]\n",
        "\n",
        "                # *****END OF YOUR CODE (DO NOT DELETE/MODIFY THIS LINE)*****\n",
        "                total += labels.size(0)\n",
        "                correct += (predicted == labels).sum().item()\n",
        "\n",
        "            print('Validataion accuracy is: {} %'.format(100 * correct / total))\n",
        "\n",
        "    ##################################################################################\n",
        "    # TODO: Now that you can train a simple two-layer MLP using above code, you can  #\n",
        "    # easily experiment with adding more layers and different layer configurations   #\n",
        "    # and let the pytorch library handle computing the gradients                     #\n",
        "    #                                                                                #\n",
        "    # Experiment with different number of layers (at least from 2 to 5 layers) and   #\n",
        "    # record the final validation accuracies Report your observations on how adding  #\n",
        "    # more layers to the MLP affects its behavior. Try to improve the model          #\n",
        "    # configuration using the validation performance as the guidance. You can        #\n",
        "    # experiment with different activation layers available in torch.nn, adding      #\n",
        "    # dropout layers, if you are interested. Use the best model on the validation    #\n",
        "    # set, to evaluate the performance on the test set once and report it            #\n",
        "    ##################################################################################\n",
        "\n",
        "    # Save the model checkpoint\n",
        "    torch.save(model.state_dict(), 'model.ckpt')\n",
        "\n",
        "else:\n",
        "    # Run the test code once you have your by setting train flag to false\n",
        "    # and loading the best model\n",
        "\n",
        "    best_model = None\n",
        "    best_model = torch.load('model.ckpt')\n",
        "    \n",
        "    model.load_state_dict(best_model)\n",
        "    \n",
        "    # Test the model\n",
        "    model.eval() #set dropout and batch normalization layers to evaluation mode\n",
        "    \n",
        "    # In test phase, we don't need to compute gradients (for memory efficiency)\n",
        "    with torch.no_grad():\n",
        "        correct = 0\n",
        "        total = 0\n",
        "        for images, labels in test_loader:\n",
        "            images = images.to(device)\n",
        "            labels = labels.to(device)\n",
        "            ####################################################\n",
        "            # TODO: Implement the evaluation code              #\n",
        "            # 1. Pass the images to the model                  #\n",
        "            # 2. Get the most confident predicted class        #\n",
        "            ####################################################\n",
        "            # *****START OF YOUR CODE (DO NOT DELETE/MODIFY THIS LINE)*****\n",
        "\n",
        "            predicted = []\n",
        "            scores = model.forward(images)\n",
        "            scores = torch.stack(scores)\n",
        "            predicted = torch.max(scores, 1)[1] #!!!!!!\n",
        "\n",
        "            # *****END OF YOUR CODE (DO NOT DELETE/MODIFY THIS LINE)*****\n",
        "            total += labels.size(0)\n",
        "            correct += (predicted == labels).sum().item()\n",
        "            if total == 1000:\n",
        "                break\n",
        "\n",
        "        print('Accuracy of the network on the {} test images: {} %'.format(total, 100 * correct / total))"
      ],
      "execution_count": 12,
      "outputs": [
        {
          "output_type": "stream",
          "text": [
            "Epoch [1/10], Step [100/123], Loss: 1.6593\n",
            "Validataion accuracy is: 48.0 %\n",
            "Epoch [2/10], Step [100/123], Loss: 1.5826\n",
            "Validataion accuracy is: 48.3 %\n",
            "Epoch [3/10], Step [100/123], Loss: 1.4298\n",
            "Validataion accuracy is: 49.1 %\n",
            "Epoch [4/10], Step [100/123], Loss: 1.3417\n",
            "Validataion accuracy is: 50.6 %\n",
            "Epoch [5/10], Step [100/123], Loss: 1.4495\n",
            "Validataion accuracy is: 52.2 %\n",
            "Epoch [6/10], Step [100/123], Loss: 1.3068\n",
            "Validataion accuracy is: 50.0 %\n",
            "Epoch [7/10], Step [100/123], Loss: 1.1518\n",
            "Validataion accuracy is: 52.1 %\n",
            "Epoch [8/10], Step [100/123], Loss: 1.2460\n",
            "Validataion accuracy is: 52.7 %\n",
            "Epoch [9/10], Step [100/123], Loss: 1.2195\n",
            "Validataion accuracy is: 50.8 %\n",
            "Epoch [10/10], Step [100/123], Loss: 1.1914\n",
            "Validataion accuracy is: 52.6 %\n"
          ],
          "name": "stdout"
        }
      ]
    },
    {
      "cell_type": "code",
      "metadata": {
        "id": "k3te6W_QgRC7",
        "outputId": "8632db8d-cd19-4b1b-d3b9-b36b3bb0560e",
        "colab": {
          "base_uri": "https://localhost:8080/"
        }
      },
      "source": [
        "best_model = None\n",
        "best_model = torch.load('model.ckpt')\n",
        "\n",
        "model.load_state_dict(best_model)\n",
        "\n",
        "# Test the model\n",
        "model.eval() #set dropout and batch normalization layers to evaluation mode\n",
        "\n",
        "# In test phase, we don't need to compute gradients (for memory efficiency)\n",
        "with torch.no_grad():\n",
        "    correct = 0\n",
        "    total = 0\n",
        "    for images, labels in test_loader:\n",
        "        images = images.to(device)\n",
        "        labels = labels.to(device)\n",
        "        ####################################################\n",
        "        # TODO: Implement the evaluation code              #\n",
        "        # 1. Pass the images to the model                  #\n",
        "        # 2. Get the most confident predicted class        #\n",
        "        ####################################################\n",
        "        # *****START OF YOUR CODE (DO NOT DELETE/MODIFY THIS LINE)*****\n",
        "\n",
        "        predicted = []\n",
        "        scores = model.forward(images)\n",
        "        scores = torch.stack(scores)\n",
        "        predicted = torch.max(scores, 1)[1] #!!!!!!\n",
        "\n",
        "        # *****END OF YOUR CODE (DO NOT DELETE/MODIFY THIS LINE)*****\n",
        "        total += labels.size(0)\n",
        "        correct += (predicted == labels).sum().item()\n",
        "        if total == 1000:\n",
        "            break\n",
        "    print('Accuracy of the network on the {} test images: {} %'.format(total, 100 * correct / total))"
      ],
      "execution_count": 15,
      "outputs": [
        {
          "output_type": "stream",
          "text": [
            "Accuracy of the network on the 10000 test images: 51.39 %\n"
          ],
          "name": "stdout"
        }
      ]
    }
  ]
}
